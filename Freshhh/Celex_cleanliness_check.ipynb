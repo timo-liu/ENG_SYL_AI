{
 "cells": [
  {
   "cell_type": "markdown",
   "id": "eaca8d97-9da7-4cae-803c-a69f62a56447",
   "metadata": {},
   "source": [
    "# Notebook purpose\n",
    "In order to establish a need for an accurate model of syllabification, I identify a popular dataset for linguists (CELEX), and I notice a glaring issue with their orthographic syllable data: it is often inconsistent with the phonologic syllabification data.\n",
    "\n",
    "e.g., \"ab.dom.i.nal\" -> \\[ab.daw.mih.nahl\\]\n",
    "\n",
    "To get a sense of how prevalent these errors are, I will manually pick through 3000 words sampled from CELEX and mark whether or not the orthographic and phonological syllabifications align."
   ]
  },
  {
   "cell_type": "code",
   "execution_count": 1,
   "id": "326a2e1c-7bcf-48c6-b480-7b089a7c538d",
   "metadata": {},
   "outputs": [],
   "source": [
    "# 1\n",
    "# imports\n",
    "import pandas as pd\n",
    "import random\n",
    "from IPython.display import clear_output\n",
    "import ipywidgets as widgets\n",
    "import os"
   ]
  },
  {
   "cell_type": "code",
   "execution_count": 2,
   "id": "9cc90121-7412-4091-90d8-e3edebba8bf0",
   "metadata": {},
   "outputs": [],
   "source": [
    "# 2\n",
    "# Helper function to convert to ipa\n",
    "\n",
    "def to_ipa(clx_string):\n",
    "    c2i = {'I': 'ɪ', 'E': 'ɛ', '{': 'æ', 'Q': 'ɑ',\n",
    "           'V': 'ʌ', 'U': 'ʊ', '$': 'ɔɚ', '3': 'ɚ',\n",
    "           'i': 'iː', '1': 'eɪ', '5': 'oʊ', 'u': 'uː',\n",
    "           '2': 'aɪ', '4': 'ɔɪ', '6': 'aʊ', '7': 'ɪɚ',\n",
    "           '8': 'ɛɚ', '#': 'aɚ', '9': 'ʊɚ', '@': 'ə',\n",
    "           'p': 'p', 'b': 'b', 't': 't', 'd': 'd', 'k': 'k',\n",
    "           'g': 'g', 'J': 'tʃ', '_': 'dʒ', 'f': 'f', 'v': 'v',\n",
    "           'T': 'θ', 'D': 'ð', 's': 's', 'S': 'ʃ', 'z': 'z',\n",
    "           'Z': 'ʒ', 'h': 'h', 'r': 'ɹ', 'm': 'm', 'n': 'n',\n",
    "           'N': 'ŋ', 'l': 'l', 'P': 'əl', 'H': 'ən', 'j': 'j',\n",
    "           'w': 'w', '.':'.', '-':'.'}\n",
    "    res = \"\"\n",
    "    for c in clx_string:\n",
    "        if c in c2i:\n",
    "            res += c2i[c]\n",
    "        else:\n",
    "            res += c\n",
    "    return res"
   ]
  },
  {
   "cell_type": "code",
   "execution_count": 21,
   "id": "cc328054-c02a-4280-8786-bbda7e237f12",
   "metadata": {},
   "outputs": [],
   "source": [
    "# 3\n",
    "# opening and parsing celex file\n",
    "def get_and_zip():\n",
    "    with open('data/Celex-sample.txt', 'r', encoding='utf-8') as file:\n",
    "        raw = pd.read_csv(file, comment='#', sep=';;', engine='python')\n",
    "        raw = raw[raw['SylCnt'] > 1]\n",
    "    \n",
    "    # sort into tuples of (ortho, ortho_syl, phon_syl_CLX)\n",
    "    ipa = [to_ipa(str(clx)) for clx in raw['PhonSylCLX'].to_list()]\n",
    "    zipped = list(zip(raw['Head'], raw['HeadSyl'], ipa, raw['SylCnt']))\n",
    "    return zipped"
   ]
  },
  {
   "cell_type": "code",
   "execution_count": null,
   "id": "b258028a-bf22-4c41-bf8d-2df78cdae777",
   "metadata": {},
   "outputs": [],
   "source": [
    "# 4\n",
    "# the code for testing\n",
    "\n",
    "zipped = get_and_zip()\n",
    "\n",
    "sample_size = 3000\n",
    "done = 0\n",
    "correct = 0\n",
    "incorrect = 0\n",
    "\n",
    "random.seed(69)\n",
    "random.shuffle(zipped)\n",
    "sample = zipped[:sample_size]\n",
    "\n",
    "correct_filename = 'celex_cleanliness_output/correctly_syllabified.txt'\n",
    "incorrect_filename = 'celex_cleanliness_output/incorrectly_syllabified.txt'\n",
    "counter_file = 'celex_cleanliness_output/counter.txt'\n",
    "\n",
    "def save_to_file(word, filename):\n",
    "    mode = 'a' if os.path.exists(filename) else 'w+'\n",
    "    with open(filename, mode, encoding='utf-8') as file:\n",
    "        if mode == 'w+':\n",
    "            file.write(\"word,ortho_syl,phon_syl,syl_count\")\n",
    "        file.write(f\"{word}\\n\")\n",
    "        "
   ]
  },
  {
   "cell_type": "code",
   "execution_count": 58,
   "id": "f6882bc0-5dfe-4b71-806b-a721301c35d9",
   "metadata": {},
   "outputs": [],
   "source": [
    "def save_counter(count, filename, encoding='utf-8'):\n",
    "    # save as a text file? lol\n",
    "    with open(filename, 'w+') as file:\n",
    "        file.write(str(count))"
   ]
  },
  {
   "cell_type": "code",
   "execution_count": null,
   "id": "adc4c426-b9a5-489e-ae00-2ec03be60cef",
   "metadata": {},
   "outputs": [],
   "source": []
  },
  {
   "cell_type": "code",
   "execution_count": 60,
   "id": "f6900130-537b-4f7d-aed9-d4f9ef8e9242",
   "metadata": {},
   "outputs": [],
   "source": [
    "# 5 start loop\n",
    "print(\"Empty enter to approve, any character + enter to deny, q + enter to quit\")\n",
    "\n",
    "for s in sample[done:]:\n",
    "    print(done)\n",
    "    print(f\"word: {s[0]}\")\n",
    "    print(f\"ortho-syl: {s[1]}\")\n",
    "    print(f\"phon-syl: {s[2]}\")\n",
    "    response = input(\"answer: \")\n",
    "    print(response)\n",
    "    if response == \"\":\n",
    "        correct += 1\n",
    "        done += 1\n",
    "        save_to_file(f\"{s[0]},{s[1]},{s[2]},{s[3]}\", correct_filename)\n",
    "    elif response == \"q\":\n",
    "        save_counter(done, counter_file)\n",
    "        break\n",
    "    else:\n",
    "        incorrect += 1\n",
    "        done += 1\n",
    "        save_to_file(f\"{s[0]},{s[1]},{s[2]},{s[3]}\", incorrect_filename)\n",
    "    clear_output(wait=False)"
   ]
  },
  {
   "cell_type": "code",
   "execution_count": null,
   "id": "22abcace-f7ad-48fd-b388-a078f463a611",
   "metadata": {},
   "outputs": [],
   "source": [
    "# note bioscope is incorrect, but phon I think is ncorrect us.kope??\n",
    "# ave. == avenue, but is edge case, marked inccorect\n",
    "# chasm -> cha.sm, algorithm -> al.go.ri.thm... many such cases. Incorrect\n",
    "# adjudge -> ad.judge ou a.djudge? marking ad.judge as correct as a rare heterogenous double consonant (al.lot, dit.to, and bus.tle etc)\n",
    "# bomber -> [bommer], bom.ber? incorrect, another heterogenous double consonant\n",
    "# fire -> fi.re\n",
    "\n",
    "# x??? axiomaticall -> ax. or a.x? incorrect, a.x is proper, allow for non common english onset x to be start of next syllable\n",
    "# acreage????? edge case, incorrect\n",
    "# changeableness I think this one the phon is wrong, incorrect"
   ]
  },
  {
   "cell_type": "code",
   "execution_count": null,
   "id": "58d6180d-0d95-4a80-a845-9451eb762b57",
   "metadata": {},
   "outputs": [],
   "source": [
    "# ACCIDENT ANOPHELOUS AAA\n",
    "# COIR ACCIDENT AAAA\n",
    "# astrodome ACCIDENT AAA\n",
    "# acceptance accident tired\n",
    "\n",
    "# attributively"
   ]
  },
  {
   "cell_type": "code",
   "execution_count": 61,
   "id": "ebb4f079-fa78-4d14-bfb9-d4a8cb65c310",
   "metadata": {},
   "outputs": [
    {
     "name": "stdout",
     "output_type": "stream",
     "text": [
      "1884\n",
      "1116\n"
     ]
    }
   ],
   "source": [
    "print(correct)\n",
    "print(incorrect)"
   ]
  },
  {
   "cell_type": "code",
   "execution_count": null,
   "id": "9174e302-5e1d-4912-ad3f-c094c1dd0ac3",
   "metadata": {},
   "outputs": [],
   "source": []
  }
 ],
 "metadata": {
  "kernelspec": {
   "display_name": "Python 3 (ipykernel)",
   "language": "python",
   "name": "python3"
  },
  "language_info": {
   "codemirror_mode": {
    "name": "ipython",
    "version": 3
   },
   "file_extension": ".py",
   "mimetype": "text/x-python",
   "name": "python",
   "nbconvert_exporter": "python",
   "pygments_lexer": "ipython3",
   "version": "3.12.4"
  }
 },
 "nbformat": 4,
 "nbformat_minor": 5
}
