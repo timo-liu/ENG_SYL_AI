{
 "cells": [
  {
   "cell_type": "markdown",
   "id": "eaca8d97-9da7-4cae-803c-a69f62a56447",
   "metadata": {},
   "source": [
    "# Notebook purpose\n",
    "In order to establish a need for an accurate model of syllabification, I identify a popular dataset for linguists (CELEX), and I notice a glaring issue with their orthographic syllable data: it is often inconsistent with the phonologic syllabification data.\n",
    "\n",
    "e.g., \"ab.dom.i.nal\" -> \\[ab.daw.mih.nahl\\]\n",
    "\n",
    "To get a sense of how prevalent these errors are, I will manually pick through 3000 words sampled from CELEX and mark whether or not the orthographic and phonological syllabifications align."
   ]
  },
  {
   "cell_type": "code",
   "execution_count": 1,
   "id": "326a2e1c-7bcf-48c6-b480-7b089a7c538d",
   "metadata": {},
   "outputs": [],
   "source": [
    "# 1\n",
    "# imports\n",
    "import pandas as pd\n",
    "import random\n",
    "from IPython.display import clear_output\n",
    "import ipywidgets as widgets\n",
    "import os"
   ]
  },
  {
   "cell_type": "code",
   "execution_count": 2,
   "id": "9cc90121-7412-4091-90d8-e3edebba8bf0",
   "metadata": {},
   "outputs": [],
   "source": [
    "# 2\n",
    "# Helper function to convert to ipa\n",
    "\n",
    "def to_ipa(clx_string):\n",
    "    c2i = {'I': 'ɪ', 'E': 'ɛ', '{': 'æ', 'Q': 'ɑ',\n",
    "           'V': 'ʌ', 'U': 'ʊ', '$': 'ɔɚ', '3': 'ɚ',\n",
    "           'i': 'iː', '1': 'eɪ', '5': 'oʊ', 'u': 'uː',\n",
    "           '2': 'aɪ', '4': 'ɔɪ', '6': 'aʊ', '7': 'ɪɚ',\n",
    "           '8': 'ɛɚ', '#': 'aɚ', '9': 'ʊɚ', '@': 'ə',\n",
    "           'p': 'p', 'b': 'b', 't': 't', 'd': 'd', 'k': 'k',\n",
    "           'g': 'g', 'J': 'tʃ', '_': 'dʒ', 'f': 'f', 'v': 'v',\n",
    "           'T': 'θ', 'D': 'ð', 's': 's', 'S': 'ʃ', 'z': 'z',\n",
    "           'Z': 'ʒ', 'h': 'h', 'r': 'ɹ', 'm': 'm', 'n': 'n',\n",
    "           'N': 'ŋ', 'l': 'l', 'P': 'əl', 'H': 'ən', 'j': 'j',\n",
    "           'w': 'w', '.':'.', '-':'.'}\n",
    "    res = \"\"\n",
    "    for c in clx_string:\n",
    "        if c in c2i:\n",
    "            res += c2i[c]\n",
    "        else:\n",
    "            res += c\n",
    "    return res"
   ]
  },
  {
   "cell_type": "code",
   "execution_count": 3,
   "id": "cc328054-c02a-4280-8786-bbda7e237f12",
   "metadata": {},
   "outputs": [],
   "source": [
    "# 3\n",
    "# opening and parsing celex file\n",
    "with open('data/Celex-sample.txt', 'r', encoding='utf-8') as file:\n",
    "    raw = pd.read_csv(file, comment='#', sep=';;', engine='python')\n",
    "    raw = raw[raw['SylCnt'] > 1]\n",
    "\n",
    "# sort into tuples of (ortho, ortho_syl, phon_syl_CLX)\n",
    "ipa = [to_ipa(str(clx)) for clx in raw['PhonSylCLX'].to_list()]\n",
    "zipped = list(zip(raw['Head'], raw['HeadSyl'], ipa, raw['SylCnt']))"
   ]
  },
  {
   "cell_type": "code",
   "execution_count": 9,
   "id": "e843d8cc-105e-4bcd-8bc3-a9bf2fa354c6",
   "metadata": {},
   "outputs": [],
   "source": [
    "# 4\n",
    "# the code for testing\n",
    "\n",
    "sample_size = 3000\n",
    "done = 0\n",
    "correct = 0\n",
    "incorrect = 0\n",
    "\n",
    "random.seed(69)\n",
    "random.shuffle(zipped)\n",
    "sample = zipped[:sample_size]\n",
    "\n",
    "correct_filename = 'celex_cleanliness_output/correctly_syllabified.txt'\n",
    "incorrect_filename = 'celex_cleanliness_output/incorrectly_syllabified.txt'\n",
    "counter_file = 'celex_cleanliness_output/counter.txt'\n",
    "\n",
    "def save_to_file(word, filename):\n",
    "    mode = 'a' if os.path.exists(filename) else 'w+'\n",
    "    with open(filename, mode, encoding='utf-8') as file:\n",
    "        if mode == 'w+':\n",
    "            file.write(\"word,ortho_syl,phon_syl,syl_count\")\n",
    "        file.write(f\"{word}\\n\")\n",
    "        \n",
    "def save_counter(count, filename, encoding='utf-8'):\n",
    "    # save as a text file? lol\n",
    "    with open(filename, mode, 'w+') as file:\n",
    "        file.write(count)"
   ]
  },
  {
   "cell_type": "code",
   "execution_count": 10,
   "id": "f6900130-537b-4f7d-aed9-d4f9ef8e9242",
   "metadata": {},
   "outputs": [
    {
     "name": "stdout",
     "output_type": "stream",
     "text": [
      "Empty enter to approve, any character + enter to deny, q + enter to quit\n",
      "1\n",
      "word: ('among', 'a-mong', 'ə.mʌŋ', 2.0)\n",
      "ortho-syl: ('awkwardness', 'awk-ward-ness', 'ɔɚ.kwəd.nɪs', 3.0)\n",
      "phon-syl: ('amazon', 'am-a-zon', 'æ.mə.zən', 3.0)\n"
     ]
    },
    {
     "name": "stdin",
     "output_type": "stream",
     "text": [
      "answer:   \n"
     ]
    },
    {
     "name": "stdout",
     "output_type": "stream",
     "text": [
      " \n"
     ]
    },
    {
     "ename": "NameError",
     "evalue": "name 'incorrect' is not defined",
     "output_type": "error",
     "traceback": [
      "\u001b[1;31m---------------------------------------------------------------------------\u001b[0m",
      "\u001b[1;31mNameError\u001b[0m                                 Traceback (most recent call last)",
      "Cell \u001b[1;32mIn[10], line 18\u001b[0m\n\u001b[0;32m     16\u001b[0m     save_counter(done, counter_file)\n\u001b[0;32m     17\u001b[0m \u001b[38;5;28;01melse\u001b[39;00m:\n\u001b[1;32m---> 18\u001b[0m     incorrect \u001b[38;5;241m+\u001b[39m\u001b[38;5;241m=\u001b[39m \u001b[38;5;241m1\u001b[39m\n\u001b[0;32m     19\u001b[0m     done \u001b[38;5;241m+\u001b[39m\u001b[38;5;241m=\u001b[39m \u001b[38;5;241m1\u001b[39m\n\u001b[0;32m     20\u001b[0m     save_to_file(\u001b[38;5;124mf\u001b[39m\u001b[38;5;124m\"\u001b[39m\u001b[38;5;132;01m{\u001b[39;00msample[\u001b[38;5;241m0\u001b[39m]\u001b[38;5;132;01m}\u001b[39;00m\u001b[38;5;124m,\u001b[39m\u001b[38;5;132;01m{\u001b[39;00msample[\u001b[38;5;241m1\u001b[39m]\u001b[38;5;132;01m}\u001b[39;00m\u001b[38;5;124m,\u001b[39m\u001b[38;5;132;01m{\u001b[39;00msample[\u001b[38;5;241m2\u001b[39m]\u001b[38;5;132;01m}\u001b[39;00m\u001b[38;5;124m,\u001b[39m\u001b[38;5;132;01m{\u001b[39;00msample[\u001b[38;5;241m3\u001b[39m]\u001b[38;5;132;01m}\u001b[39;00m\u001b[38;5;124m\"\u001b[39m, incorrect_filename)\n",
      "\u001b[1;31mNameError\u001b[0m: name 'incorrect' is not defined"
     ]
    }
   ],
   "source": [
    "# 5 start loop\n",
    "print(\"Empty enter to approve, any character + enter to deny, q + enter to quit\")\n",
    "\n",
    "for s in sample[done:]:\n",
    "    print(done)\n",
    "    print(f\"word: {sample[0]}\")\n",
    "    print(f\"ortho-syl: {sample[1]}\")\n",
    "    print(f\"phon-syl: {sample[2]}\")\n",
    "    response = input(\"answer: \")\n",
    "    print(response)\n",
    "    if response == \"\":\n",
    "        correct += 1\n",
    "        done += 1\n",
    "        save_to_file(f\"{sample[0]},{sample[1]},{sample[2]},{sample[3]}\", correct_filename)\n",
    "    elif response == \"q\":\n",
    "        save_counter(done, counter_file)\n",
    "    else:\n",
    "        incorrect += 1\n",
    "        done += 1\n",
    "        save_to_file(f\"{sample[0]},{sample[1]},{sample[2]},{sample[3]}\", incorrect_filename)\n",
    "    clear_output(wait=True)"
   ]
  },
  {
   "cell_type": "code",
   "execution_count": null,
   "id": "22abcace-f7ad-48fd-b388-a078f463a611",
   "metadata": {},
   "outputs": [],
   "source": []
  }
 ],
 "metadata": {
  "kernelspec": {
   "display_name": "Python 3 (ipykernel)",
   "language": "python",
   "name": "python3"
  },
  "language_info": {
   "codemirror_mode": {
    "name": "ipython",
    "version": 3
   },
   "file_extension": ".py",
   "mimetype": "text/x-python",
   "name": "python",
   "nbconvert_exporter": "python",
   "pygments_lexer": "ipython3",
   "version": "3.9.19"
  }
 },
 "nbformat": 4,
 "nbformat_minor": 5
}
